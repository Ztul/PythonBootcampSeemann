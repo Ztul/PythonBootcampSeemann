{
 "cells": [
  {
   "cell_type": "code",
   "execution_count": 9,
   "metadata": {},
   "outputs": [
    {
     "name": "stdout",
     "output_type": "stream",
     "text": [
      "30274\n"
     ]
    }
   ],
   "source": [
    "import csv\n",
    "pfad = '../Kursmaterialien/data/names.csv'\n",
    "anzNamen = set()\n",
    "with open(pfad, newline='') as csvfile:\n",
    "    vornamen = csv.reader(csvfile, delimiter=',', quotechar='\"')\n",
    "    counter = 0\n",
    "    for zeile in vornamen:\n",
    "        if counter !=0:\n",
    "            anzNamen.add(zeile[1])\n",
    "       # if counter > 100:\n",
    "       #     break\n",
    "        counter+=1\n",
    "\n",
    "print(len(anzNamen))"
   ]
  },
  {
   "cell_type": "code",
   "execution_count": null,
   "metadata": {},
   "outputs": [],
   "source": []
  },
  {
   "cell_type": "code",
   "execution_count": null,
   "metadata": {},
   "outputs": [],
   "source": []
  }
 ],
 "metadata": {
  "kernelspec": {
   "display_name": "Python 3",
   "language": "python",
   "name": "python3"
  },
  "language_info": {
   "codemirror_mode": {
    "name": "ipython",
    "version": 3
   },
   "file_extension": ".py",
   "mimetype": "text/x-python",
   "name": "python",
   "nbconvert_exporter": "python",
   "pygments_lexer": "ipython3",
   "version": "3.8.3"
  }
 },
 "nbformat": 4,
 "nbformat_minor": 4
}
