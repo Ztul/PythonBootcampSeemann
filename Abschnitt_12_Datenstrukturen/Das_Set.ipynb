{
 "cells": [
  {
   "cell_type": "code",
   "execution_count": 1,
   "metadata": {},
   "outputs": [],
   "source": [
    "#Liste [\"erster\",\"zweiter\"]\n",
    "#Diconaries {\"hallo\":5, \"soso\": 4}"
   ]
  },
  {
   "cell_type": "code",
   "execution_count": 2,
   "metadata": {},
   "outputs": [
    {
     "name": "stdout",
     "output_type": "stream",
     "text": [
      "{'sonne', 'mond', 'Sterne'}\n"
     ]
    }
   ],
   "source": [
    "#Set, nur eine Eintrag vom Wert vorhanden\n",
    "s={\"sonne\", \"mond\"}\n",
    "s.add(\"Sterne\")\n",
    "print(s)#thoretisch nicht sortiert"
   ]
  },
  {
   "cell_type": "code",
   "execution_count": 4,
   "metadata": {},
   "outputs": [
    {
     "name": "stdout",
     "output_type": "stream",
     "text": [
      "{'sonne', 'mond', 'Sterne'}\n",
      "['Mars', 'Jupiter', 'Merkur']\n"
     ]
    }
   ],
   "source": [
    "#in Gegensatz einer Liste\n",
    "l = [\"Mars\", \"Jupiter\"]\n",
    "l.append(\"Merkur\")\n",
    "print(s)\n",
    "print(l)"
   ]
  },
  {
   "cell_type": "code",
   "execution_count": 7,
   "metadata": {},
   "outputs": [
    {
     "name": "stdout",
     "output_type": "stream",
     "text": [
      "{'Hallo', 'Mars', 'Welt'}\n",
      "3\n"
     ]
    }
   ],
   "source": [
    "#Nutzen\n",
    "#Beispiel ist das Wort drin? Wird nur einmal gezählt.\n",
    "\n",
    "text = \"Hallo Welt Hallo Mars Hallo Welt\"\n",
    "words = set()#{}geht nicht da schon vom digenarie reserviert\n",
    "\n",
    "for word in text.split(\" \"):\n",
    "    words.add(word)\n",
    "print(words)\n",
    "print(len(words))"
   ]
  },
  {
   "cell_type": "code",
   "execution_count": null,
   "metadata": {},
   "outputs": [],
   "source": []
  }
 ],
 "metadata": {
  "kernelspec": {
   "display_name": "Python 3",
   "language": "python",
   "name": "python3"
  },
  "language_info": {
   "codemirror_mode": {
    "name": "ipython",
    "version": 3
   },
   "file_extension": ".py",
   "mimetype": "text/x-python",
   "name": "python",
   "nbconvert_exporter": "python",
   "pygments_lexer": "ipython3",
   "version": "3.8.3"
  }
 },
 "nbformat": 4,
 "nbformat_minor": 4
}
