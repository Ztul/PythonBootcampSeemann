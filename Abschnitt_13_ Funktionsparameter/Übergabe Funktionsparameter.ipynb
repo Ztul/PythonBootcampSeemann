{
 "cells": [
  {
   "cell_type": "code",
   "execution_count": 2,
   "metadata": {},
   "outputs": [
    {
     "name": "stdout",
     "output_type": "stream",
     "text": [
      "Moinsen\n",
      "Moinsen\n",
      "Moinsen\n",
      "Moinsen\n",
      "Moinsen\n"
     ]
    }
   ],
   "source": [
    "def multi_print(number,word):\n",
    "    for i in range(0, number):\n",
    "        print(word)\n",
    "        \n",
    "multi_print(5, \"Moinsen\")"
   ]
  },
  {
   "cell_type": "code",
   "execution_count": 3,
   "metadata": {},
   "outputs": [
    {
     "name": "stdout",
     "output_type": "stream",
     "text": [
      "Moin\n",
      "Moin\n",
      "Moin\n"
     ]
    }
   ],
   "source": [
    "def multi_print(number = 3,word = \"Moin\"):\n",
    "    for i in range(0, number):\n",
    "        print(word)\n",
    "        \n",
    "multi_print()"
   ]
  },
  {
   "cell_type": "code",
   "execution_count": 4,
   "metadata": {},
   "outputs": [
    {
     "name": "stdout",
     "output_type": "stream",
     "text": [
      "Moin\n",
      "Moin\n",
      "Moin\n",
      "Moin\n",
      "Moin\n"
     ]
    }
   ],
   "source": [
    "def multi_print(number = 3,word = \"Moin\"):\n",
    "    for i in range(0, number):\n",
    "        print(word)\n",
    "        \n",
    "multi_print(5)"
   ]
  },
  {
   "cell_type": "code",
   "execution_count": 5,
   "metadata": {},
   "outputs": [
    {
     "name": "stdout",
     "output_type": "stream",
     "text": [
      "Moinsen\n",
      "Moinsen\n",
      "Moinsen\n"
     ]
    }
   ],
   "source": [
    "def multi_print(number = 3,word = \"Moin\"):\n",
    "    for i in range(0, number):\n",
    "        print(word)\n",
    "        \n",
    "multi_print(word = \"Moinsen\")"
   ]
  },
  {
   "cell_type": "code",
   "execution_count": 6,
   "metadata": {},
   "outputs": [
    {
     "name": "stdout",
     "output_type": "stream",
     "text": [
      "5\n",
      "5\n"
     ]
    }
   ],
   "source": [
    "a = 5\n",
    "\n",
    "def f(x):\n",
    "    print(x)\n",
    "    \n",
    "f(a)\n",
    "print(a)"
   ]
  },
  {
   "cell_type": "code",
   "execution_count": 8,
   "metadata": {},
   "outputs": [
    {
     "name": "stdout",
     "output_type": "stream",
     "text": [
      "['Hallo', 'Welt', ';-)']\n",
      "['Hallo', 'Welt', ';-)']\n"
     ]
    }
   ],
   "source": [
    "liste = [\"Hallo\", \"Welt\"]\n",
    "\n",
    "def f(x):\n",
    "    x.append(\";-)\")# durch Änderung in der Funktion ändert sich auch die Liste\n",
    "    print(x)\n",
    "    \n",
    "f(liste)\n",
    "print(liste)\n",
    "    "
   ]
  },
  {
   "cell_type": "code",
   "execution_count": null,
   "metadata": {},
   "outputs": [],
   "source": []
  },
  {
   "cell_type": "code",
   "execution_count": null,
   "metadata": {},
   "outputs": [],
   "source": []
  },
  {
   "cell_type": "code",
   "execution_count": null,
   "metadata": {},
   "outputs": [],
   "source": []
  },
  {
   "cell_type": "code",
   "execution_count": null,
   "metadata": {},
   "outputs": [],
   "source": []
  },
  {
   "cell_type": "code",
   "execution_count": null,
   "metadata": {},
   "outputs": [],
   "source": []
  },
  {
   "cell_type": "code",
   "execution_count": null,
   "metadata": {},
   "outputs": [],
   "source": []
  }
 ],
 "metadata": {
  "kernelspec": {
   "display_name": "Python 3",
   "language": "python",
   "name": "python3"
  },
  "language_info": {
   "codemirror_mode": {
    "name": "ipython",
    "version": 3
   },
   "file_extension": ".py",
   "mimetype": "text/x-python",
   "name": "python",
   "nbconvert_exporter": "python",
   "pygments_lexer": "ipython3",
   "version": "3.8.3"
  }
 },
 "nbformat": 4,
 "nbformat_minor": 4
}
