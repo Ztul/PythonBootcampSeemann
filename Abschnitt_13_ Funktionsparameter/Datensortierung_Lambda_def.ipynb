{
 "cells": [
  {
   "cell_type": "code",
   "execution_count": 3,
   "metadata": {},
   "outputs": [
    {
     "name": "stdout",
     "output_type": "stream",
     "text": [
      "[('Erik', 3), ('Franzi', 1), ('Max', 3), ('Monika', 2)]\n",
      "[('Franzi', 1), ('Monika', 2), ('Erik', 3), ('Max', 3)]\n"
     ]
    }
   ],
   "source": [
    "students = [\n",
    "    (\"Max\",3),\n",
    "    (\"Monika\", 2),\n",
    "    (\"Erik\",3),\n",
    "    (\"Franzi\",1)\n",
    "]\n",
    "\n",
    "\n",
    "\n",
    "students.sort()\n",
    "print(students)\n",
    "\n",
    "#Suchen nach Semester\n",
    "def students_key(student):\n",
    "    return student[1]\n",
    "\n",
    "students.sort(key=students_key)\n",
    "print(students)"
   ]
  },
  {
   "cell_type": "code",
   "execution_count": 4,
   "metadata": {},
   "outputs": [
    {
     "name": "stdout",
     "output_type": "stream",
     "text": [
      "[('Franzi', 1), ('Monika', 2), ('Max', 3), ('Erik', 3)]\n"
     ]
    }
   ],
   "source": [
    "students = [\n",
    "    (\"Max\",3),\n",
    "    (\"Monika\", 2),\n",
    "    (\"Erik\",3),\n",
    "    (\"Franzi\",1)\n",
    "]\n",
    "\n",
    "students.sort(key=lambda student: student[1])#inline Funktion\n",
    "print(students)"
   ]
  },
  {
   "cell_type": "code",
   "execution_count": null,
   "metadata": {},
   "outputs": [],
   "source": []
  }
 ],
 "metadata": {
  "kernelspec": {
   "display_name": "Python 3",
   "language": "python",
   "name": "python3"
  },
  "language_info": {
   "codemirror_mode": {
    "name": "ipython",
    "version": 3
   },
   "file_extension": ".py",
   "mimetype": "text/x-python",
   "name": "python",
   "nbconvert_exporter": "python",
   "pygments_lexer": "ipython3",
   "version": "3.8.3"
  }
 },
 "nbformat": 4,
 "nbformat_minor": 4
}
