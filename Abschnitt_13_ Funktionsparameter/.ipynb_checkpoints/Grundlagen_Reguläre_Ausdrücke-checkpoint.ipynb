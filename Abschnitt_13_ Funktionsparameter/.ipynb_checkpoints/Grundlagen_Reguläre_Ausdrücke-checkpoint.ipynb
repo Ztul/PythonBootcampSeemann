{
 "cells": [
  {
   "cell_type": "code",
   "execution_count": 1,
   "metadata": {},
   "outputs": [],
   "source": [
    "import re"
   ]
  },
  {
   "cell_type": "code",
   "execution_count": 2,
   "metadata": {},
   "outputs": [
    {
     "data": {
      "text/plain": [
       "['30', '4', '2']"
      ]
     },
     "execution_count": 2,
     "metadata": {},
     "output_type": "execute_result"
    }
   ],
   "source": [
    "satz = \"Ich habe 30 Hunde, die jeweils 4 Liter Wasser brauchen und 2 kg Nahrung.\"\n",
    "\n",
    "re.findall(\"[0-9]+\", satz)"
   ]
  },
  {
   "cell_type": "code",
   "execution_count": 3,
   "metadata": {},
   "outputs": [
    {
     "data": {
      "text/plain": [
       "<re.Match object; span=(9, 11), match='30'>"
      ]
     },
     "execution_count": 3,
     "metadata": {},
     "output_type": "execute_result"
    }
   ],
   "source": [
    "satz = \"Ich habe 30 Hunde, die jeweils 4 Liter Wasser brauchen und 2 kg Nahrung.\"\n",
    "re.search(\"[0-9]+\", satz)"
   ]
  },
  {
   "cell_type": "code",
   "execution_count": 4,
   "metadata": {},
   "outputs": [
    {
     "data": {
      "text/plain": [
       "<re.Match object; span=(5, 8), match='der'>"
      ]
     },
     "execution_count": 4,
     "metadata": {},
     "output_type": "execute_result"
    }
   ],
   "source": [
    "re.search(\"der\", \"allo der dem de Hallo\")"
   ]
  },
  {
   "cell_type": "code",
   "execution_count": 7,
   "metadata": {},
   "outputs": [
    {
     "data": {
      "text/plain": [
       "['der', 'de', 'de']"
      ]
     },
     "execution_count": 7,
     "metadata": {},
     "output_type": "execute_result"
    }
   ],
   "source": [
    "re.findall(\"der?\", \"allo der dem de Hallo\")"
   ]
  },
  {
   "cell_type": "code",
   "execution_count": 10,
   "metadata": {},
   "outputs": [
    {
     "name": "stdout",
     "output_type": "stream",
     "text": [
      "<re.Match object; span=(5, 8), match='der'>\n",
      "<re.Match object; span=(5, 9), match='derr'>\n",
      "<re.Match object; span=(5, 10), match='derrr'>\n",
      "<re.Match object; span=(5, 7), match='de'>\n"
     ]
    }
   ],
   "source": [
    "print(re.search(\"der*\", \"allo der dem de Hallo\"))\n",
    "print(re.search(\"der*\", \"allo derr dem de Hallo\"))\n",
    "print(re.search(\"der*\", \"allo derrr dem de Hallo\"))\n",
    "print(re.search(\"der*\", \"allo de dem de Hallo\"))"
   ]
  },
  {
   "cell_type": "code",
   "execution_count": 11,
   "metadata": {},
   "outputs": [
    {
     "name": "stdout",
     "output_type": "stream",
     "text": [
      "<re.Match object; span=(5, 8), match='der'>\n",
      "<re.Match object; span=(5, 9), match='derr'>\n",
      "<re.Match object; span=(5, 10), match='derrr'>\n",
      "None\n"
     ]
    }
   ],
   "source": [
    "print(re.search(\"der+\", \"allo der dem de Hallo\"))\n",
    "print(re.search(\"der+\", \"allo derr dem de Hallo\"))\n",
    "print(re.search(\"der+\", \"allo derrr dem de Hallo\"))\n",
    "print(re.search(\"der+\", \"allo de dem de Hallo\"))"
   ]
  },
  {
   "cell_type": "code",
   "execution_count": 14,
   "metadata": {},
   "outputs": [],
   "source": [
    "#### https://regexr.com/"
   ]
  },
  {
   "cell_type": "code",
   "execution_count": null,
   "metadata": {},
   "outputs": [],
   "source": []
  }
 ],
 "metadata": {
  "kernelspec": {
   "display_name": "Python 3",
   "language": "python",
   "name": "python3"
  },
  "language_info": {
   "codemirror_mode": {
    "name": "ipython",
    "version": 3
   },
   "file_extension": ".py",
   "mimetype": "text/x-python",
   "name": "python",
   "nbconvert_exporter": "python",
   "pygments_lexer": "ipython3",
   "version": "3.8.3"
  }
 },
 "nbformat": 4,
 "nbformat_minor": 4
}
