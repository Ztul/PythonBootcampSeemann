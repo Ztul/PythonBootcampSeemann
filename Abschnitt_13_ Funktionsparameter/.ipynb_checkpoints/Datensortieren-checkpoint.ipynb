{
 "cells": [
  {
   "cell_type": "code",
   "execution_count": 4,
   "metadata": {},
   "outputs": [
    {
     "name": "stdout",
     "output_type": "stream",
     "text": [
      "['Erik', 'Franz', 'Max', 'Monika']\n"
     ]
    }
   ],
   "source": [
    "liste = [\"Max\", \"Monika\",\"Erik\",\"Franz\" ]\n",
    "\n",
    "liste.sort()\n",
    "print(liste)"
   ]
  },
  {
   "cell_type": "code",
   "execution_count": 5,
   "metadata": {},
   "outputs": [
    {
     "name": "stdout",
     "output_type": "stream",
     "text": [
      "['Monika', 'Max', 'Franz', 'Erik']\n"
     ]
    }
   ],
   "source": [
    "liste.sort(reverse=True)\n",
    "print(liste)"
   ]
  },
  {
   "cell_type": "code",
   "execution_count": 6,
   "metadata": {},
   "outputs": [
    {
     "name": "stdout",
     "output_type": "stream",
     "text": [
      "['Max', 'Erik', 'Franz', 'Monika']\n"
     ]
    }
   ],
   "source": [
    "def get_length(item):\n",
    "    return len(item)\n",
    "liste = [\"Max\", \"Monika\",\"Erik\",\"Franz\" ]\n",
    "liste.sort(key=get_length)\n",
    "print(liste)"
   ]
  },
  {
   "cell_type": "code",
   "execution_count": 7,
   "metadata": {},
   "outputs": [
    {
     "name": "stdout",
     "output_type": "stream",
     "text": [
      "['Max', 'Erik', 'Franz', 'Monika']\n"
     ]
    }
   ],
   "source": [
    "\n",
    "liste = [\"Max\", \"Monika\",\"Erik\",\"Franz\" ]\n",
    "liste.sort(key=len)\n",
    "print(liste)"
   ]
  },
  {
   "cell_type": "markdown",
   "metadata": {},
   "source": [
    "#### Daten sind nicht immer eine Liste"
   ]
  },
  {
   "cell_type": "code",
   "execution_count": 11,
   "metadata": {},
   "outputs": [
    {
     "name": "stdout",
     "output_type": "stream",
     "text": [
      "['Budapest', 'Köln', 'Saigon']\n",
      "['Saigon', 'Köln', 'Budapest']\n"
     ]
    }
   ],
   "source": [
    "dic = {\"Köln\": \"CGN\",\"Budapest\": \"BUD\", \"Saigon\": \"SGN\"}\n",
    "print(sorted(dic))\n",
    "print(sorted(dic,reverse = True))"
   ]
  },
  {
   "cell_type": "code",
   "execution_count": null,
   "metadata": {},
   "outputs": [],
   "source": [
    "# sort in Place\n",
    "#sorted erstellt eine neue Liste, eine Kopie ect."
   ]
  },
  {
   "cell_type": "code",
   "execution_count": null,
   "metadata": {},
   "outputs": [],
   "source": []
  },
  {
   "cell_type": "code",
   "execution_count": null,
   "metadata": {},
   "outputs": [],
   "source": []
  },
  {
   "cell_type": "code",
   "execution_count": null,
   "metadata": {},
   "outputs": [],
   "source": []
  }
 ],
 "metadata": {
  "kernelspec": {
   "display_name": "Python 3",
   "language": "python",
   "name": "python3"
  },
  "language_info": {
   "codemirror_mode": {
    "name": "ipython",
    "version": 3
   },
   "file_extension": ".py",
   "mimetype": "text/x-python",
   "name": "python",
   "nbconvert_exporter": "python",
   "pygments_lexer": "ipython3",
   "version": "3.8.3"
  }
 },
 "nbformat": 4,
 "nbformat_minor": 4
}
