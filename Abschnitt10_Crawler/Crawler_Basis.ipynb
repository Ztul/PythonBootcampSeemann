{
 "cells": [
  {
   "cell_type": "code",
   "execution_count": 1,
   "metadata": {},
   "outputs": [
    {
     "name": "stdout",
     "output_type": "stream",
     "text": [
      "{'_content': b'<!DOCTYPE html>\\n<html lang=\"de\">\\n  <head>\\n    <meta charset=\"utf-8\">\\n    <meta name=\"viewport\" content=\"width=device-width, initial-scale=1, shrink-to-fit=no\">\\n    <meta name=\"description\" content=\"\">\\n    <meta name=\"author\" content=\"\">\\n    \\n    <title>Crawler-Auflistung</title>\\n\\n    <!-- Bootstrap core CSS -->\\n    <link href=\"./lib/bootstrap/css/bootstrap.min.css\" rel=\"stylesheet\">\\n    <link href=\"./css/narrow-jumbotron.css\" rel=\"stylesheet\">\\n  </head>\\n\\n  <body>\\n\\n    <div class=\"container\">\\n      <div class=\"header clearfix\">\\n        <nav>\\n          <ul class=\"nav nav-pills float-right\">\\n            <li class=\"nav-item\">\\n              <a class=\"nav-link active\" href=\"#\">Home <span class=\"sr-only\">(current)</span></a>\\n            </li>\\n            <li class=\"nav-item\">\\n              <a class=\"nav-link\" href=\"#\">About</a>\\n            </li>\\n            <li class=\"nav-item\">\\n              <a class=\"nav-link\" href=\"#\">Contact</a>\\n            </li>\\n          </ul>\\n        </nav>\\n        <h3 class=\"text-muted\">Crawler-Auflistung</h3>\\n      </div>\\n\\n      <div class=\"jumbotron\">\\n        <h1 class=\"display-3\">Crawler-Auflistung</h1>\\n        <p class=\"lead\">\\n\\t        Eine Ansammlung an Daten, die du automatisiert Crawlen darfst.<br />\\n\\t        Alles zuf\\xc3\\xa4llig generierte Daten. \\n\\t    </p>\\n      </div>\\n\\n      <div class=\"row content\">\\n        <div class=\"col-lg-12\">\\n\\t      \\t      \\n\\t      \\t      \\n\\t      <p>Seite: 1 von 6</p>\\n\\t      <br />\\n\\t      \\n\\t      \\n\\t      \\t        \\t\\t        \\t\\t        <div class=\"card\">\\n\\t\\t\\t        <div class=\"card-block\">\\n\\t\\t\\t\\t        <a href=\"./img/1.jpg\" target=\"_blank\">\\n\\t\\t\\t\\t        \\t<img class=\"img-responsive float-right\" src=\"./img/1.jpg\" style=\"max-height: 100px;max-width:110px;margin-left:15px;\" alt=\"Bild 1\" />\\n\\t\\t\\t\\t        </a>\\n\\t\\t\\t\\t        <h4 class=\"card-title\">\\n\\t\\t\\t\\t\\t        <span class=\"emoji\">\\xf0\\x9f\\x98\\xa9</span>\\n\\t\\t\\t\\t\\t        <span>Polarised modular conglomeration</span>\\n\\t\\t\\t\\t        </h4>\\n\\t\\t\\t\\t        <p class=\"card-text\">Optio numquam ut accusantium laborum unde assumenda. Ea et totam asperiores fugiat voluptatem vitae. Et provident nam et mollitia.</p>\\n\\t\\t\\t        </div>\\n\\t\\t\\t    </div>\\n\\t\\t        <br />\\n\\t\\t    \\t      \\t        \\t\\t        \\t\\t        <div class=\"card\">\\n\\t\\t\\t        <div class=\"card-block\">\\n\\t\\t\\t\\t        <a href=\"./img/2.jpg\" target=\"_blank\">\\n\\t\\t\\t\\t        \\t<img class=\"img-responsive float-right\" src=\"./img/2.jpg\" style=\"max-height: 100px;max-width:110px;margin-left:15px;\" alt=\"Bild 2\" />\\n\\t\\t\\t\\t        </a>\\n\\t\\t\\t\\t        <h4 class=\"card-title\">\\n\\t\\t\\t\\t\\t        <span class=\"emoji\">\\xf0\\x9f\\x98\\x90</span>\\n\\t\\t\\t\\t\\t        <span>Cross-group contextually-based middleware</span>\\n\\t\\t\\t\\t        </h4>\\n\\t\\t\\t\\t        <p class=\"card-text\">Deleniti atque autem et commodi cupiditate cupiditate. Fuga illum quas aliquam velit. Labore dolor fugit quia id odio nam.</p>\\n\\t\\t\\t        </div>\\n\\t\\t\\t    </div>\\n\\t\\t        <br />\\n\\t\\t    \\t      \\t        \\t\\t        \\t\\t        <div class=\"card\">\\n\\t\\t\\t        <div class=\"card-block\">\\n\\t\\t\\t\\t        <a href=\"./img/3.jpg\" target=\"_blank\">\\n\\t\\t\\t\\t        \\t<img class=\"img-responsive float-right\" src=\"./img/3.jpg\" style=\"max-height: 100px;max-width:110px;margin-left:15px;\" alt=\"Bild 3\" />\\n\\t\\t\\t\\t        </a>\\n\\t\\t\\t\\t        <h4 class=\"card-title\">\\n\\t\\t\\t\\t\\t        <span class=\"emoji\">\\xf0\\x9f\\x98\\x8c</span>\\n\\t\\t\\t\\t\\t        <span>De-engineered encompassing structure</span>\\n\\t\\t\\t\\t        </h4>\\n\\t\\t\\t\\t        <p class=\"card-text\">Assumenda tempora inventore harum cumque voluptatibus sit et. Et omnis et dolore quod voluptas sit a.</p>\\n\\t\\t\\t        </div>\\n\\t\\t\\t    </div>\\n\\t\\t        <br />\\n\\t\\t    \\t      \\t        \\t\\t        \\t\\t        <div class=\"card\">\\n\\t\\t\\t        <div class=\"card-block\">\\n\\t\\t\\t\\t        <a href=\"./img/4.jpg\" target=\"_blank\">\\n\\t\\t\\t\\t        \\t<img class=\"img-responsive float-right\" src=\"./img/4.jpg\" style=\"max-height: 100px;max-width:110px;margin-left:15px;\" alt=\"Bild 4\" />\\n\\t\\t\\t\\t        </a>\\n\\t\\t\\t\\t        <h4 class=\"card-title\">\\n\\t\\t\\t\\t\\t        <span class=\"emoji\">\\xf0\\x9f\\x98\\x9a</span>\\n\\t\\t\\t\\t\\t        <span>Fully-configurable multi-tasking interface</span>\\n\\t\\t\\t\\t        </h4>\\n\\t\\t\\t\\t        <p class=\"card-text\">Cumque unde officia autem quia at fugit. Sint iure veritatis culpa aut provident aliquam in. Eos eum accusantium quia vel dignissimos nesciunt expedita. Rem aut accusantium et tempore.</p>\\n\\t\\t\\t        </div>\\n\\t\\t\\t    </div>\\n\\t\\t        <br />\\n\\t\\t    \\t      \\t        \\t\\t        \\t\\t        <div class=\"card\">\\n\\t\\t\\t        <div class=\"card-block\">\\n\\t\\t\\t\\t        <a href=\"./img/5.jpg\" target=\"_blank\">\\n\\t\\t\\t\\t        \\t<img class=\"img-responsive float-right\" src=\"./img/5.jpg\" style=\"max-height: 100px;max-width:110px;margin-left:15px;\" alt=\"Bild 5\" />\\n\\t\\t\\t\\t        </a>\\n\\t\\t\\t\\t        <h4 class=\"card-title\">\\n\\t\\t\\t\\t\\t        <span class=\"emoji\">\\xf0\\x9f\\x98\\xa0</span>\\n\\t\\t\\t\\t\\t        <span>Versatile eco-centric core</span>\\n\\t\\t\\t\\t        </h4>\\n\\t\\t\\t\\t        <p class=\"card-text\">Delectus distinctio quis omnis ut commodi sed. Beatae officia doloribus consequatur dolore. Consectetur impedit quia voluptas et ut. Incidunt rem mollitia fugiat quia corporis quo. Quod possimus ut et neque deserunt.</p>\\n\\t\\t\\t        </div>\\n\\t\\t\\t    </div>\\n\\t\\t        <br />\\n\\t\\t    \\t      \\t        \\t\\t        \\t\\t        <div class=\"card\">\\n\\t\\t\\t        <div class=\"card-block\">\\n\\t\\t\\t\\t        <a href=\"./img/6.jpg\" target=\"_blank\">\\n\\t\\t\\t\\t        \\t<img class=\"img-responsive float-right\" src=\"./img/6.jpg\" style=\"max-height: 100px;max-width:110px;margin-left:15px;\" alt=\"Bild 6\" />\\n\\t\\t\\t\\t        </a>\\n\\t\\t\\t\\t        <h4 class=\"card-title\">\\n\\t\\t\\t\\t\\t        <span class=\"emoji\">\\xf0\\x9f\\x98\\xae</span>\\n\\t\\t\\t\\t\\t        <span>Optional maximized utilisation</span>\\n\\t\\t\\t\\t        </h4>\\n\\t\\t\\t\\t        <p class=\"card-text\">Consequatur sit deleniti sunt aut ullam eos. Vel ex ut sunt velit provident corporis consequatur. Ea est dolorum ut atque unde. Quasi itaque nihil pariatur.</p>\\n\\t\\t\\t        </div>\\n\\t\\t\\t    </div>\\n\\t\\t        <br />\\n\\t\\t    \\t      \\t        \\t\\t        \\t\\t        <div class=\"card\">\\n\\t\\t\\t        <div class=\"card-block\">\\n\\t\\t\\t\\t        <a href=\"./img/7.jpg\" target=\"_blank\">\\n\\t\\t\\t\\t        \\t<img class=\"img-responsive float-right\" src=\"./img/7.jpg\" style=\"max-height: 100px;max-width:110px;margin-left:15px;\" alt=\"Bild 7\" />\\n\\t\\t\\t\\t        </a>\\n\\t\\t\\t\\t        <h4 class=\"card-title\">\\n\\t\\t\\t\\t\\t        <span class=\"emoji\">\\xf0\\x9f\\x98\\xa2</span>\\n\\t\\t\\t\\t\\t        <span>Open-architected secondary product</span>\\n\\t\\t\\t\\t        </h4>\\n\\t\\t\\t\\t        <p class=\"card-text\">Reiciendis dolor quisquam tempora in. Totam ut distinctio vero. Ullam maiores dolor sunt voluptas.</p>\\n\\t\\t\\t        </div>\\n\\t\\t\\t    </div>\\n\\t\\t        <br />\\n\\t\\t    \\t      \\t      \\n\\t      \\t        <div class=\"navigation\">\\n\\t      \\t  <a href=\"index.php?page=2\" class=\"btn btn-primary\">Zur n\\xc3\\xa4chsten Seite!</a>\\n\\t        </div>\\n\\t      \\t     \\n\\t      \\n        </div>\\n\\n      </div>\\n\\n      <footer class=\"footer\">\\n        <p>&copy; Company 2017</p>\\n      </footer>\\n\\n    </div>\\n  </body>\\n</html>\\n', '_content_consumed': True, '_next': None, 'status_code': 200, 'headers': {'Date': 'Fri, 23 Oct 2020 16:56:00 GMT', 'Server': 'Apache', 'X-Powered-By': 'PHP/7.1.33', 'Upgrade': 'h2c', 'Connection': 'Upgrade, Keep-Alive', 'Keep-Alive': 'timeout=15, max=100', 'Transfer-Encoding': 'chunked', 'Content-Type': 'text/html; charset=utf-8'}, 'raw': <urllib3.response.HTTPResponse object at 0x7f0fb0ecb520>, 'url': 'http://python.beispiel.programmierenlernen.io/index.php', 'encoding': 'utf-8', 'history': [], 'reason': 'OK', 'cookies': <RequestsCookieJar[]>, 'elapsed': datetime.timedelta(seconds=1, microseconds=270730), 'request': <PreparedRequest [GET]>, 'connection': <requests.adapters.HTTPAdapter object at 0x7f0fb0f19f10>}\n"
     ]
    }
   ],
   "source": [
    "import requests\n",
    "\n",
    "r = requests.get(\"http://python.beispiel.programmierenlernen.io/index.php\")\n",
    "\n",
    "print(r.__dict__)"
   ]
  },
  {
   "cell_type": "code",
   "execution_count": 2,
   "metadata": {},
   "outputs": [
    {
     "name": "stdout",
     "output_type": "stream",
     "text": [
      "200\n"
     ]
    }
   ],
   "source": [
    "import requests\n",
    "\n",
    "r = requests.get(\"http://python.beispiel.programmierenlernen.io/index.php\")\n",
    "\n",
    "print(r.status_code)"
   ]
  },
  {
   "cell_type": "code",
   "execution_count": 3,
   "metadata": {},
   "outputs": [
    {
     "name": "stdout",
     "output_type": "stream",
     "text": [
      "{'Date': 'Fri, 23 Oct 2020 16:57:40 GMT', 'Server': 'Apache', 'X-Powered-By': 'PHP/7.1.33', 'Upgrade': 'h2c', 'Connection': 'Upgrade, Keep-Alive', 'Keep-Alive': 'timeout=15, max=100', 'Transfer-Encoding': 'chunked', 'Content-Type': 'text/html; charset=utf-8'}\n"
     ]
    }
   ],
   "source": [
    "print(r.headers)"
   ]
  },
  {
   "cell_type": "code",
   "execution_count": 4,
   "metadata": {},
   "outputs": [],
   "source": [
    "from bs4 import BeautifulSoup"
   ]
  },
  {
   "cell_type": "code",
   "execution_count": 5,
   "metadata": {},
   "outputs": [],
   "source": [
    "txt = r.text"
   ]
  },
  {
   "cell_type": "code",
   "execution_count": 10,
   "metadata": {},
   "outputs": [],
   "source": [
    "das = BeautifulSoup(txt, \"html.parser\")"
   ]
  },
  {
   "cell_type": "code",
   "execution_count": 11,
   "metadata": {},
   "outputs": [
    {
     "name": "stdout",
     "output_type": "stream",
     "text": [
      "<!DOCTYPE html>\n",
      "\n",
      "<html lang=\"de\">\n",
      "<head>\n",
      "<meta charset=\"utf-8\"/>\n",
      "<meta content=\"width=device-width, initial-scale=1, shrink-to-fit=no\" name=\"viewport\"/>\n",
      "<meta content=\"\" name=\"description\"/>\n",
      "<meta content=\"\" name=\"author\"/>\n",
      "<title>Crawler-Auflistung</title>\n",
      "<!-- Bootstrap core CSS -->\n",
      "<link href=\"./lib/bootstrap/css/bootstrap.min.css\" rel=\"stylesheet\"/>\n",
      "<link href=\"./css/narrow-jumbotron.css\" rel=\"stylesheet\"/>\n",
      "</head>\n",
      "<body>\n",
      "<div class=\"container\">\n",
      "<div class=\"header clearfix\">\n",
      "<nav>\n",
      "<ul class=\"nav nav-pills float-right\">\n",
      "<li class=\"nav-item\">\n",
      "<a class=\"nav-link active\" href=\"#\">Home <span class=\"sr-only\">(current)</span></a>\n",
      "</li>\n",
      "<li class=\"nav-item\">\n",
      "<a class=\"nav-link\" href=\"#\">About</a>\n",
      "</li>\n",
      "<li class=\"nav-item\">\n",
      "<a class=\"nav-link\" href=\"#\">Contact</a>\n",
      "</li>\n",
      "</ul>\n",
      "</nav>\n",
      "<h3 class=\"text-muted\">Crawler-Auflistung</h3>\n",
      "</div>\n",
      "<div class=\"jumbotron\">\n",
      "<h1 class=\"display-3\">Crawler-Auflistung</h1>\n",
      "<p class=\"lead\">\n",
      "\t        Eine Ansammlung an Daten, die du automatisiert Crawlen darfst.<br/>\n",
      "\t        Alles zufällig generierte Daten. \n",
      "\t    </p>\n",
      "</div>\n",
      "<div class=\"row content\">\n",
      "<div class=\"col-lg-12\">\n",
      "<p>Seite: 1 von 6</p>\n",
      "<br/>\n",
      "<div class=\"card\">\n",
      "<div class=\"card-block\">\n",
      "<a href=\"./img/1.jpg\" target=\"_blank\">\n",
      "<img alt=\"Bild 1\" class=\"img-responsive float-right\" src=\"./img/1.jpg\" style=\"max-height: 100px;max-width:110px;margin-left:15px;\"/>\n",
      "</a>\n",
      "<h4 class=\"card-title\">\n",
      "<span class=\"emoji\">😩</span>\n",
      "<span>Polarised modular conglomeration</span>\n",
      "</h4>\n",
      "<p class=\"card-text\">Optio numquam ut accusantium laborum unde assumenda. Ea et totam asperiores fugiat voluptatem vitae. Et provident nam et mollitia.</p>\n",
      "</div>\n",
      "</div>\n",
      "<br/>\n",
      "<div class=\"card\">\n",
      "<div class=\"card-block\">\n",
      "<a href=\"./img/2.jpg\" target=\"_blank\">\n",
      "<img alt=\"Bild 2\" class=\"img-responsive float-right\" src=\"./img/2.jpg\" style=\"max-height: 100px;max-width:110px;margin-left:15px;\"/>\n",
      "</a>\n",
      "<h4 class=\"card-title\">\n",
      "<span class=\"emoji\">😐</span>\n",
      "<span>Cross-group contextually-based middleware</span>\n",
      "</h4>\n",
      "<p class=\"card-text\">Deleniti atque autem et commodi cupiditate cupiditate. Fuga illum quas aliquam velit. Labore dolor fugit quia id odio nam.</p>\n",
      "</div>\n",
      "</div>\n",
      "<br/>\n",
      "<div class=\"card\">\n",
      "<div class=\"card-block\">\n",
      "<a href=\"./img/3.jpg\" target=\"_blank\">\n",
      "<img alt=\"Bild 3\" class=\"img-responsive float-right\" src=\"./img/3.jpg\" style=\"max-height: 100px;max-width:110px;margin-left:15px;\"/>\n",
      "</a>\n",
      "<h4 class=\"card-title\">\n",
      "<span class=\"emoji\">😌</span>\n",
      "<span>De-engineered encompassing structure</span>\n",
      "</h4>\n",
      "<p class=\"card-text\">Assumenda tempora inventore harum cumque voluptatibus sit et. Et omnis et dolore quod voluptas sit a.</p>\n",
      "</div>\n",
      "</div>\n",
      "<br/>\n",
      "<div class=\"card\">\n",
      "<div class=\"card-block\">\n",
      "<a href=\"./img/4.jpg\" target=\"_blank\">\n",
      "<img alt=\"Bild 4\" class=\"img-responsive float-right\" src=\"./img/4.jpg\" style=\"max-height: 100px;max-width:110px;margin-left:15px;\"/>\n",
      "</a>\n",
      "<h4 class=\"card-title\">\n",
      "<span class=\"emoji\">😚</span>\n",
      "<span>Fully-configurable multi-tasking interface</span>\n",
      "</h4>\n",
      "<p class=\"card-text\">Cumque unde officia autem quia at fugit. Sint iure veritatis culpa aut provident aliquam in. Eos eum accusantium quia vel dignissimos nesciunt expedita. Rem aut accusantium et tempore.</p>\n",
      "</div>\n",
      "</div>\n",
      "<br/>\n",
      "<div class=\"card\">\n",
      "<div class=\"card-block\">\n",
      "<a href=\"./img/5.jpg\" target=\"_blank\">\n",
      "<img alt=\"Bild 5\" class=\"img-responsive float-right\" src=\"./img/5.jpg\" style=\"max-height: 100px;max-width:110px;margin-left:15px;\"/>\n",
      "</a>\n",
      "<h4 class=\"card-title\">\n",
      "<span class=\"emoji\">😠</span>\n",
      "<span>Versatile eco-centric core</span>\n",
      "</h4>\n",
      "<p class=\"card-text\">Delectus distinctio quis omnis ut commodi sed. Beatae officia doloribus consequatur dolore. Consectetur impedit quia voluptas et ut. Incidunt rem mollitia fugiat quia corporis quo. Quod possimus ut et neque deserunt.</p>\n",
      "</div>\n",
      "</div>\n",
      "<br/>\n",
      "<div class=\"card\">\n",
      "<div class=\"card-block\">\n",
      "<a href=\"./img/6.jpg\" target=\"_blank\">\n",
      "<img alt=\"Bild 6\" class=\"img-responsive float-right\" src=\"./img/6.jpg\" style=\"max-height: 100px;max-width:110px;margin-left:15px;\"/>\n",
      "</a>\n",
      "<h4 class=\"card-title\">\n",
      "<span class=\"emoji\">😮</span>\n",
      "<span>Optional maximized utilisation</span>\n",
      "</h4>\n",
      "<p class=\"card-text\">Consequatur sit deleniti sunt aut ullam eos. Vel ex ut sunt velit provident corporis consequatur. Ea est dolorum ut atque unde. Quasi itaque nihil pariatur.</p>\n",
      "</div>\n",
      "</div>\n",
      "<br/>\n",
      "<div class=\"card\">\n",
      "<div class=\"card-block\">\n",
      "<a href=\"./img/7.jpg\" target=\"_blank\">\n",
      "<img alt=\"Bild 7\" class=\"img-responsive float-right\" src=\"./img/7.jpg\" style=\"max-height: 100px;max-width:110px;margin-left:15px;\"/>\n",
      "</a>\n",
      "<h4 class=\"card-title\">\n",
      "<span class=\"emoji\">😢</span>\n",
      "<span>Open-architected secondary product</span>\n",
      "</h4>\n",
      "<p class=\"card-text\">Reiciendis dolor quisquam tempora in. Totam ut distinctio vero. Ullam maiores dolor sunt voluptas.</p>\n",
      "</div>\n",
      "</div>\n",
      "<br/>\n",
      "<div class=\"navigation\">\n",
      "<a class=\"btn btn-primary\" href=\"index.php?page=2\">Zur nächsten Seite!</a>\n",
      "</div>\n",
      "</div>\n",
      "</div>\n",
      "<footer class=\"footer\">\n",
      "<p>© Company 2017</p>\n",
      "</footer>\n",
      "</div>\n",
      "</body>\n",
      "</html>\n",
      "\n"
     ]
    }
   ],
   "source": [
    "print(das)"
   ]
  },
  {
   "cell_type": "code",
   "execution_count": 12,
   "metadata": {},
   "outputs": [
    {
     "name": "stdout",
     "output_type": "stream",
     "text": [
      "[<p class=\"lead\">\n",
      "\t        Eine Ansammlung an Daten, die du automatisiert Crawlen darfst.<br/>\n",
      "\t        Alles zufällig generierte Daten. \n",
      "\t    </p>, <p>Seite: 1 von 6</p>, <p class=\"card-text\">Optio numquam ut accusantium laborum unde assumenda. Ea et totam asperiores fugiat voluptatem vitae. Et provident nam et mollitia.</p>, <p class=\"card-text\">Deleniti atque autem et commodi cupiditate cupiditate. Fuga illum quas aliquam velit. Labore dolor fugit quia id odio nam.</p>, <p class=\"card-text\">Assumenda tempora inventore harum cumque voluptatibus sit et. Et omnis et dolore quod voluptas sit a.</p>, <p class=\"card-text\">Cumque unde officia autem quia at fugit. Sint iure veritatis culpa aut provident aliquam in. Eos eum accusantium quia vel dignissimos nesciunt expedita. Rem aut accusantium et tempore.</p>, <p class=\"card-text\">Delectus distinctio quis omnis ut commodi sed. Beatae officia doloribus consequatur dolore. Consectetur impedit quia voluptas et ut. Incidunt rem mollitia fugiat quia corporis quo. Quod possimus ut et neque deserunt.</p>, <p class=\"card-text\">Consequatur sit deleniti sunt aut ullam eos. Vel ex ut sunt velit provident corporis consequatur. Ea est dolorum ut atque unde. Quasi itaque nihil pariatur.</p>, <p class=\"card-text\">Reiciendis dolor quisquam tempora in. Totam ut distinctio vero. Ullam maiores dolor sunt voluptas.</p>, <p>© Company 2017</p>]\n"
     ]
    }
   ],
   "source": [
    "print(das.find_all(\"p\"))"
   ]
  },
  {
   "cell_type": "code",
   "execution_count": 14,
   "metadata": {},
   "outputs": [
    {
     "name": "stdout",
     "output_type": "stream",
     "text": [
      "\n",
      "\t        Eine Ansammlung an Daten, die du automatisiert Crawlen darfst.\n",
      "\t        Alles zufällig generierte Daten. \n",
      "\t    \n",
      "Seite: 1 von 6\n",
      "Optio numquam ut accusantium laborum unde assumenda. Ea et totam asperiores fugiat voluptatem vitae. Et provident nam et mollitia.\n",
      "Deleniti atque autem et commodi cupiditate cupiditate. Fuga illum quas aliquam velit. Labore dolor fugit quia id odio nam.\n",
      "Assumenda tempora inventore harum cumque voluptatibus sit et. Et omnis et dolore quod voluptas sit a.\n",
      "Cumque unde officia autem quia at fugit. Sint iure veritatis culpa aut provident aliquam in. Eos eum accusantium quia vel dignissimos nesciunt expedita. Rem aut accusantium et tempore.\n",
      "Delectus distinctio quis omnis ut commodi sed. Beatae officia doloribus consequatur dolore. Consectetur impedit quia voluptas et ut. Incidunt rem mollitia fugiat quia corporis quo. Quod possimus ut et neque deserunt.\n",
      "Consequatur sit deleniti sunt aut ullam eos. Vel ex ut sunt velit provident corporis consequatur. Ea est dolorum ut atque unde. Quasi itaque nihil pariatur.\n",
      "Reiciendis dolor quisquam tempora in. Totam ut distinctio vero. Ullam maiores dolor sunt voluptas.\n",
      "© Company 2017\n"
     ]
    }
   ],
   "source": [
    "for p in das.find_all(\"p\"):\n",
    "    print(p.text)"
   ]
  },
  {
   "cell_type": "code",
   "execution_count": null,
   "metadata": {},
   "outputs": [],
   "source": [
    "##"
   ]
  }
 ],
 "metadata": {
  "kernelspec": {
   "display_name": "Python 3",
   "language": "python",
   "name": "python3"
  },
  "language_info": {
   "codemirror_mode": {
    "name": "ipython",
    "version": 3
   },
   "file_extension": ".py",
   "mimetype": "text/x-python",
   "name": "python",
   "nbconvert_exporter": "python",
   "pygments_lexer": "ipython3",
   "version": "3.8.3"
  }
 },
 "nbformat": 4,
 "nbformat_minor": 4
}
